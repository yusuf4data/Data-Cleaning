{
 "cells": [
  {
   "cell_type": "code",
   "execution_count": 1,
   "id": "78f75694-6add-444d-aeee-d5196336c775",
   "metadata": {},
   "outputs": [],
   "source": [
    "file_path =r'E:\\dataAnalystPractice\\Upwork demands\\testimonials.2022-03-14.csv'"
   ]
  },
  {
   "cell_type": "code",
   "execution_count": 2,
   "id": "7b2a868a-ddca-4399-9a95-17645c9c77ff",
   "metadata": {},
   "outputs": [],
   "source": [
    "import pandas as pd"
   ]
  },
  {
   "cell_type": "code",
   "execution_count": 3,
   "id": "a4b4b012-57b9-4768-8884-3afbc3846fba",
   "metadata": {},
   "outputs": [],
   "source": [
    "df=pd.read_csv(file_path,index_col=False)"
   ]
  },
  {
   "cell_type": "code",
   "execution_count": 4,
   "id": "762a9101-12f5-48f0-9d1c-d889951b1f79",
   "metadata": {},
   "outputs": [
    {
     "data": {
      "text/html": [
       "<div>\n",
       "<style scoped>\n",
       "    .dataframe tbody tr th:only-of-type {\n",
       "        vertical-align: middle;\n",
       "    }\n",
       "\n",
       "    .dataframe tbody tr th {\n",
       "        vertical-align: top;\n",
       "    }\n",
       "\n",
       "    .dataframe thead th {\n",
       "        text-align: right;\n",
       "    }\n",
       "</style>\n",
       "<table border=\"1\" class=\"dataframe\">\n",
       "  <thead>\n",
       "    <tr style=\"text-align: right;\">\n",
       "      <th></th>\n",
       "      <th>Date</th>\n",
       "      <th>User ID</th>\n",
       "      <th>User email</th>\n",
       "      <th>Client Name</th>\n",
       "      <th>Rating</th>\n",
       "      <th>Testimonial</th>\n",
       "    </tr>\n",
       "  </thead>\n",
       "  <tbody>\n",
       "    <tr>\n",
       "      <th>0</th>\n",
       "      <td>NaN</td>\n",
       "      <td>426426</td>\n",
       "      <td>jkovacs@houlihanlawrence.com</td>\n",
       "      <td>Janet Kovacs</td>\n",
       "      <td>NaN</td>\n",
       "      <td>We are very pleased to recommend Janet Kovacs....</td>\n",
       "    </tr>\n",
       "    <tr>\n",
       "      <th>1</th>\n",
       "      <td>NaN</td>\n",
       "      <td>426426</td>\n",
       "      <td>jkovacs@houlihanlawrence.com</td>\n",
       "      <td>Janet Kovacs</td>\n",
       "      <td>NaN</td>\n",
       "      <td>Janet is an incredible realtor who knows the R...</td>\n",
       "    </tr>\n",
       "    <tr>\n",
       "      <th>2</th>\n",
       "      <td>NaN</td>\n",
       "      <td>426558</td>\n",
       "      <td>GSermoneta@houlihanlawrence.com</td>\n",
       "      <td>Eugenio (Gino) Sermoneta</td>\n",
       "      <td>5.0</td>\n",
       "      <td>&lt;p&gt;Hi Gino. We are all happy and quite relieve...</td>\n",
       "    </tr>\n",
       "    <tr>\n",
       "      <th>3</th>\n",
       "      <td>NaN</td>\n",
       "      <td>426558</td>\n",
       "      <td>GSermoneta@houlihanlawrence.com</td>\n",
       "      <td>Eugenio (Gino) Sermoneta</td>\n",
       "      <td>5.0</td>\n",
       "      <td>&lt;p&gt;Dear Gino- Thank you so much for your kindn...</td>\n",
       "    </tr>\n",
       "    <tr>\n",
       "      <th>4</th>\n",
       "      <td>NaN</td>\n",
       "      <td>426558</td>\n",
       "      <td>GSermoneta@houlihanlawrence.com</td>\n",
       "      <td>Eugenio (Gino) Sermoneta</td>\n",
       "      <td>5.0</td>\n",
       "      <td>&lt;p&gt;Thank you again for all your help in making...</td>\n",
       "    </tr>\n",
       "  </tbody>\n",
       "</table>\n",
       "</div>"
      ],
      "text/plain": [
       "  Date  User ID                       User email               Client Name  \\\n",
       "0  NaN   426426     jkovacs@houlihanlawrence.com              Janet Kovacs   \n",
       "1  NaN   426426     jkovacs@houlihanlawrence.com              Janet Kovacs   \n",
       "2  NaN   426558  GSermoneta@houlihanlawrence.com  Eugenio (Gino) Sermoneta   \n",
       "3  NaN   426558  GSermoneta@houlihanlawrence.com  Eugenio (Gino) Sermoneta   \n",
       "4  NaN   426558  GSermoneta@houlihanlawrence.com  Eugenio (Gino) Sermoneta   \n",
       "\n",
       "   Rating                                        Testimonial  \n",
       "0     NaN  We are very pleased to recommend Janet Kovacs....  \n",
       "1     NaN  Janet is an incredible realtor who knows the R...  \n",
       "2     5.0  <p>Hi Gino. We are all happy and quite relieve...  \n",
       "3     5.0  <p>Dear Gino- Thank you so much for your kindn...  \n",
       "4     5.0  <p>Thank you again for all your help in making...  "
      ]
     },
     "execution_count": 4,
     "metadata": {},
     "output_type": "execute_result"
    }
   ],
   "source": [
    "df.head()"
   ]
  },
  {
   "cell_type": "markdown",
   "id": "a170ca92-02f8-4931-8060-771e72450012",
   "metadata": {},
   "source": [
    "# the target is to remove the html tags from Testimonial column"
   ]
  },
  {
   "cell_type": "code",
   "execution_count": 5,
   "id": "0e4bef66-5cf1-4c52-8244-866559ba910e",
   "metadata": {},
   "outputs": [
    {
     "data": {
      "text/plain": [
       "0    We are very pleased to recommend Janet Kovacs....\n",
       "1    Janet is an incredible realtor who knows the R...\n",
       "2    <p>Hi Gino. We are all happy and quite relieve...\n",
       "Name: Testimonial, dtype: object"
      ]
     },
     "execution_count": 5,
     "metadata": {},
     "output_type": "execute_result"
    }
   ],
   "source": [
    "df.Testimonial[:3]"
   ]
  },
  {
   "cell_type": "markdown",
   "id": "f4223ea5-5600-4988-a259-d75c9c1c888b",
   "metadata": {},
   "source": [
    "# the easiest way is to use BeautifulSoup"
   ]
  },
  {
   "cell_type": "code",
   "execution_count": 6,
   "id": "ebc43e7d-af84-4e81-a005-f084af0a7788",
   "metadata": {},
   "outputs": [
    {
     "data": {
      "text/plain": [
       "'<p>Hi Gino. We are all happy and quite relieved to have it done. It has been a stressful time for my family. You were an absolute pleasure to work with in every way - reliable, knowledgeable, responsive, and empathetic. Thanks for everything. I will provide a strong reference for your work if anyone asks.</p>'"
      ]
     },
     "execution_count": 6,
     "metadata": {},
     "output_type": "execute_result"
    }
   ],
   "source": [
    "df.Testimonial[2]"
   ]
  },
  {
   "cell_type": "code",
   "execution_count": 7,
   "id": "a15d8942-3efb-4ea7-bb65-d5032903c695",
   "metadata": {},
   "outputs": [],
   "source": [
    "from bs4 import BeautifulSoup"
   ]
  },
  {
   "cell_type": "code",
   "execution_count": 8,
   "id": "e9bee472-052d-4bc5-85fc-e9f31ec6301a",
   "metadata": {},
   "outputs": [],
   "source": [
    "# check for third row\n",
    "column=BeautifulSoup(df.Testimonial[2])"
   ]
  },
  {
   "cell_type": "code",
   "execution_count": 9,
   "id": "3a80c203-9697-42c5-86c3-a144f385e201",
   "metadata": {},
   "outputs": [
    {
     "data": {
      "text/plain": [
       "<html><body><p>Hi Gino. We are all happy and quite relieved to have it done. It has been a stressful time for my family. You were an absolute pleasure to work with in every way - reliable, knowledgeable, responsive, and empathetic. Thanks for everything. I will provide a strong reference for your work if anyone asks.</p></body></html>"
      ]
     },
     "execution_count": 9,
     "metadata": {},
     "output_type": "execute_result"
    }
   ],
   "source": [
    "column"
   ]
  },
  {
   "cell_type": "code",
   "execution_count": 10,
   "id": "ac82c551-010b-47ee-90c6-a93e8e4c6ee9",
   "metadata": {},
   "outputs": [
    {
     "data": {
      "text/plain": [
       "'Hi Gino. We are all happy and quite relieved to have it done. It has been a stressful time for my family. You were an absolute pleasure to work with in every way - reliable, knowledgeable, responsive, and empathetic. Thanks for everything. I will provide a strong reference for your work if anyone asks.'"
      ]
     },
     "execution_count": 10,
     "metadata": {},
     "output_type": "execute_result"
    }
   ],
   "source": [
    "# now remove the tag\n",
    "column.find('p').text"
   ]
  },
  {
   "cell_type": "code",
   "execution_count": 12,
   "id": "18708a53-c6b8-46e7-a09d-d342861aa666",
   "metadata": {},
   "outputs": [
    {
     "data": {
      "text/plain": [
       "True     3901\n",
       "False     973\n",
       "Name: Testimonial, dtype: int64"
      ]
     },
     "execution_count": 12,
     "metadata": {},
     "output_type": "execute_result"
    }
   ],
   "source": [
    "df.Testimonial.str.contains('<p>').value_counts()"
   ]
  },
  {
   "cell_type": "code",
   "execution_count": 16,
   "id": "21836b7e-0b60-4696-aa33-4ff1599ac221",
   "metadata": {},
   "outputs": [
    {
     "data": {
      "text/plain": [
       "4457    <div class=\"Flex-c11n-8-39-0__n94bjd-0 iWWLfX\"...\n",
       "4458    <div class=\"Flex-c11n-8-39-0__n94bjd-0 iWWLfX\"...\n",
       "4459    <div class=\"Flex-c11n-8-39-0__n94bjd-0 iWWLfX\"...\n",
       "4460    <p>&quot;Lauren did a great job for us. We wer...\n",
       "4461    <p><span style=\"color:#000000;\">Alberto Hernan...\n",
       "4462    <p><b style=\"color: rgb(12, 100, 192); font-fa...\n",
       "4463    <p><span style=\"color: rgb(42, 42, 51); font-f...\n",
       "4464    <p><span style=\"font-size: 16px; caret-color: ...\n",
       "Name: Testimonial, dtype: object"
      ]
     },
     "execution_count": 16,
     "metadata": {},
     "output_type": "execute_result"
    }
   ],
   "source": [
    "test_data=df.Testimonial[4457:4465]\n",
    "test_data"
   ]
  },
  {
   "cell_type": "markdown",
   "id": "0243cd61-a99e-4ecc-a85f-a113a32bdfd2",
   "metadata": {},
   "source": [
    "# I will make a loop to find all 'p','div','header' tag and return a text"
   ]
  },
  {
   "cell_type": "code",
   "execution_count": 13,
   "id": "a7fb1dee-8029-402a-a825-a58f8c6b4ffc",
   "metadata": {},
   "outputs": [],
   "source": [
    "import re"
   ]
  },
  {
   "cell_type": "code",
   "execution_count": 31,
   "id": "3e3e6088-bc10-4a60-9ff0-c5b6f0bb5c8b",
   "metadata": {},
   "outputs": [],
   "source": [
    "def clean_col(row):\n",
    "    pattern=r'<p|<div|header|<table|<address'\n",
    "    try: \n",
    "        found=re.findall(pattern,row)\n",
    "        if found:\n",
    "            c=BeautifulSoup(row)\n",
    "            if c.find('p'):\n",
    "                return c.find('p').text\n",
    "            elif c.find('div'):\n",
    "                return c.find('div').text\n",
    "            elif c.find('table'):\n",
    "                return c.find('table').text\n",
    "            elif c.find('address'):\n",
    "                return c.find('address').text\n",
    "            elif c.find('header'):\n",
    "                return c.find('header').text\n",
    "        else:\n",
    "            return row \n",
    "    except:\n",
    "        pass"
   ]
  },
  {
   "cell_type": "code",
   "execution_count": 32,
   "id": "2c97ccec-6995-45fa-8696-d659a3b48ec0",
   "metadata": {},
   "outputs": [],
   "source": [
    "df['cleaned_column']=df['Testimonial'].apply(clean_col)\n",
    "            "
   ]
  },
  {
   "cell_type": "code",
   "execution_count": 34,
   "id": "471a18fb-e814-45a5-87de-8a7ad42cffa2",
   "metadata": {},
   "outputs": [
    {
     "data": {
      "text/html": [
       "<div>\n",
       "<style scoped>\n",
       "    .dataframe tbody tr th:only-of-type {\n",
       "        vertical-align: middle;\n",
       "    }\n",
       "\n",
       "    .dataframe tbody tr th {\n",
       "        vertical-align: top;\n",
       "    }\n",
       "\n",
       "    .dataframe thead th {\n",
       "        text-align: right;\n",
       "    }\n",
       "</style>\n",
       "<table border=\"1\" class=\"dataframe\">\n",
       "  <thead>\n",
       "    <tr style=\"text-align: right;\">\n",
       "      <th></th>\n",
       "      <th>Date</th>\n",
       "      <th>User ID</th>\n",
       "      <th>User email</th>\n",
       "      <th>Client Name</th>\n",
       "      <th>Rating</th>\n",
       "      <th>Testimonial</th>\n",
       "      <th>cleaned_column</th>\n",
       "    </tr>\n",
       "  </thead>\n",
       "  <tbody>\n",
       "    <tr>\n",
       "      <th>0</th>\n",
       "      <td>NaN</td>\n",
       "      <td>426426</td>\n",
       "      <td>jkovacs@houlihanlawrence.com</td>\n",
       "      <td>Janet Kovacs</td>\n",
       "      <td>NaN</td>\n",
       "      <td>We are very pleased to recommend Janet Kovacs....</td>\n",
       "      <td>We are very pleased to recommend Janet Kovacs....</td>\n",
       "    </tr>\n",
       "    <tr>\n",
       "      <th>1</th>\n",
       "      <td>NaN</td>\n",
       "      <td>426426</td>\n",
       "      <td>jkovacs@houlihanlawrence.com</td>\n",
       "      <td>Janet Kovacs</td>\n",
       "      <td>NaN</td>\n",
       "      <td>Janet is an incredible realtor who knows the R...</td>\n",
       "      <td>Janet is an incredible realtor who knows the R...</td>\n",
       "    </tr>\n",
       "    <tr>\n",
       "      <th>2</th>\n",
       "      <td>NaN</td>\n",
       "      <td>426558</td>\n",
       "      <td>GSermoneta@houlihanlawrence.com</td>\n",
       "      <td>Eugenio (Gino) Sermoneta</td>\n",
       "      <td>5.0</td>\n",
       "      <td>&lt;p&gt;Hi Gino. We are all happy and quite relieve...</td>\n",
       "      <td>Hi Gino. We are all happy and quite relieved t...</td>\n",
       "    </tr>\n",
       "    <tr>\n",
       "      <th>3</th>\n",
       "      <td>NaN</td>\n",
       "      <td>426558</td>\n",
       "      <td>GSermoneta@houlihanlawrence.com</td>\n",
       "      <td>Eugenio (Gino) Sermoneta</td>\n",
       "      <td>5.0</td>\n",
       "      <td>&lt;p&gt;Dear Gino- Thank you so much for your kindn...</td>\n",
       "      <td>Dear Gino- Thank you so much for your kindness...</td>\n",
       "    </tr>\n",
       "    <tr>\n",
       "      <th>4</th>\n",
       "      <td>NaN</td>\n",
       "      <td>426558</td>\n",
       "      <td>GSermoneta@houlihanlawrence.com</td>\n",
       "      <td>Eugenio (Gino) Sermoneta</td>\n",
       "      <td>5.0</td>\n",
       "      <td>&lt;p&gt;Thank you again for all your help in making...</td>\n",
       "      <td>Thank you again for all your help in making ou...</td>\n",
       "    </tr>\n",
       "  </tbody>\n",
       "</table>\n",
       "</div>"
      ],
      "text/plain": [
       "  Date  User ID                       User email               Client Name  \\\n",
       "0  NaN   426426     jkovacs@houlihanlawrence.com              Janet Kovacs   \n",
       "1  NaN   426426     jkovacs@houlihanlawrence.com              Janet Kovacs   \n",
       "2  NaN   426558  GSermoneta@houlihanlawrence.com  Eugenio (Gino) Sermoneta   \n",
       "3  NaN   426558  GSermoneta@houlihanlawrence.com  Eugenio (Gino) Sermoneta   \n",
       "4  NaN   426558  GSermoneta@houlihanlawrence.com  Eugenio (Gino) Sermoneta   \n",
       "\n",
       "   Rating                                        Testimonial  \\\n",
       "0     NaN  We are very pleased to recommend Janet Kovacs....   \n",
       "1     NaN  Janet is an incredible realtor who knows the R...   \n",
       "2     5.0  <p>Hi Gino. We are all happy and quite relieve...   \n",
       "3     5.0  <p>Dear Gino- Thank you so much for your kindn...   \n",
       "4     5.0  <p>Thank you again for all your help in making...   \n",
       "\n",
       "                                      cleaned_column  \n",
       "0  We are very pleased to recommend Janet Kovacs....  \n",
       "1  Janet is an incredible realtor who knows the R...  \n",
       "2  Hi Gino. We are all happy and quite relieved t...  \n",
       "3  Dear Gino- Thank you so much for your kindness...  \n",
       "4  Thank you again for all your help in making ou...  "
      ]
     },
     "execution_count": 34,
     "metadata": {},
     "output_type": "execute_result"
    }
   ],
   "source": [
    "df.head()"
   ]
  },
  {
   "cell_type": "code",
   "execution_count": 33,
   "id": "49fb6fc6-1bf8-473c-8929-76731b38a0f5",
   "metadata": {},
   "outputs": [],
   "source": [
    "df.to_csv('E:/dataAnalystPractice/Upwork demands/almost_cleaned.csv',index=False)\n",
    "    "
   ]
  },
  {
   "cell_type": "code",
   "execution_count": 35,
   "id": "4dc86ae1-913f-4dc9-a47e-6f097474c63d",
   "metadata": {},
   "outputs": [
    {
     "data": {
      "text/html": [
       "<div>\n",
       "<style scoped>\n",
       "    .dataframe tbody tr th:only-of-type {\n",
       "        vertical-align: middle;\n",
       "    }\n",
       "\n",
       "    .dataframe tbody tr th {\n",
       "        vertical-align: top;\n",
       "    }\n",
       "\n",
       "    .dataframe thead th {\n",
       "        text-align: right;\n",
       "    }\n",
       "</style>\n",
       "<table border=\"1\" class=\"dataframe\">\n",
       "  <thead>\n",
       "    <tr style=\"text-align: right;\">\n",
       "      <th></th>\n",
       "      <th>Date</th>\n",
       "      <th>User ID</th>\n",
       "      <th>User email</th>\n",
       "      <th>Client Name</th>\n",
       "      <th>Rating</th>\n",
       "      <th>Testimonial</th>\n",
       "      <th>cleaned_column</th>\n",
       "    </tr>\n",
       "  </thead>\n",
       "  <tbody>\n",
       "    <tr>\n",
       "      <th>4457</th>\n",
       "      <td>NaN</td>\n",
       "      <td>426539</td>\n",
       "      <td>gwilburn@houlihanlawrence.com</td>\n",
       "      <td>Gloria Wilburn</td>\n",
       "      <td>5.0</td>\n",
       "      <td>&lt;div class=\"Flex-c11n-8-39-0__n94bjd-0 iWWLfX\"...</td>\n",
       "      <td>08/29/2017 - robinjill4Sold a Single Family ho...</td>\n",
       "    </tr>\n",
       "    <tr>\n",
       "      <th>4458</th>\n",
       "      <td>NaN</td>\n",
       "      <td>426539</td>\n",
       "      <td>gwilburn@houlihanlawrence.com</td>\n",
       "      <td>Gloria Wilburn</td>\n",
       "      <td>5.0</td>\n",
       "      <td>&lt;div class=\"Flex-c11n-8-39-0__n94bjd-0 iWWLfX\"...</td>\n",
       "      <td>02/08/2017 - g traniBought and sold a Single F...</td>\n",
       "    </tr>\n",
       "    <tr>\n",
       "      <th>4459</th>\n",
       "      <td>NaN</td>\n",
       "      <td>426539</td>\n",
       "      <td>gwilburn@houlihanlawrence.com</td>\n",
       "      <td>Gloria Wilburn</td>\n",
       "      <td>5.0</td>\n",
       "      <td>&lt;div class=\"Flex-c11n-8-39-0__n94bjd-0 iWWLfX\"...</td>\n",
       "      <td>09/04/2015 - us1bobSold a Single Family home i...</td>\n",
       "    </tr>\n",
       "    <tr>\n",
       "      <th>4460</th>\n",
       "      <td>2021-08-18</td>\n",
       "      <td>426835</td>\n",
       "      <td>lzaccaria@houlihanlawrence.com</td>\n",
       "      <td>Lauren Zaccaria</td>\n",
       "      <td>5.0</td>\n",
       "      <td>&lt;p&gt;&amp;quot;Lauren did a great job for us. We wer...</td>\n",
       "      <td>\"Lauren did a great job for us. We were from o...</td>\n",
       "    </tr>\n",
       "    <tr>\n",
       "      <th>4461</th>\n",
       "      <td>2021-08-18</td>\n",
       "      <td>17899172</td>\n",
       "      <td>ahernandez@houlihanlawrence.com</td>\n",
       "      <td>Alberto Hernandez</td>\n",
       "      <td>5.0</td>\n",
       "      <td>&lt;p&gt;&lt;span style=\"color:#000000;\"&gt;Alberto Hernan...</td>\n",
       "      <td>Alberto Hernandez is a wonderful real estate a...</td>\n",
       "    </tr>\n",
       "    <tr>\n",
       "      <th>4462</th>\n",
       "      <td>NaN</td>\n",
       "      <td>426675</td>\n",
       "      <td>LFinn@houlihanlawrence.com</td>\n",
       "      <td>Linda Finn</td>\n",
       "      <td>5.0</td>\n",
       "      <td>&lt;p&gt;&lt;b style=\"color: rgb(12, 100, 192); font-fa...</td>\n",
       "      <td>Linda was great to work with. We had a number ...</td>\n",
       "    </tr>\n",
       "    <tr>\n",
       "      <th>4463</th>\n",
       "      <td>2021-08-20</td>\n",
       "      <td>12488473</td>\n",
       "      <td>aalvarez@houlihanlawrence.com</td>\n",
       "      <td>Ali Alvarez</td>\n",
       "      <td>5.0</td>\n",
       "      <td>&lt;p&gt;&lt;span style=\"color: rgb(42, 42, 51); font-f...</td>\n",
       "      <td>Ali has been a dream to work with! Not only do...</td>\n",
       "    </tr>\n",
       "    <tr>\n",
       "      <th>4464</th>\n",
       "      <td>2021-08-23</td>\n",
       "      <td>16610622</td>\n",
       "      <td>ALeder@HoulihanLawrence.com</td>\n",
       "      <td>Julie (Anna) Leder</td>\n",
       "      <td>5.0</td>\n",
       "      <td>&lt;p&gt;&lt;span style=\"font-size: 16px; caret-color: ...</td>\n",
       "      <td>Anna was fantastic - while she may be somewhat...</td>\n",
       "    </tr>\n",
       "  </tbody>\n",
       "</table>\n",
       "</div>"
      ],
      "text/plain": [
       "            Date   User ID                       User email  \\\n",
       "4457         NaN    426539    gwilburn@houlihanlawrence.com   \n",
       "4458         NaN    426539    gwilburn@houlihanlawrence.com   \n",
       "4459         NaN    426539    gwilburn@houlihanlawrence.com   \n",
       "4460  2021-08-18    426835   lzaccaria@houlihanlawrence.com   \n",
       "4461  2021-08-18  17899172  ahernandez@houlihanlawrence.com   \n",
       "4462         NaN    426675       LFinn@houlihanlawrence.com   \n",
       "4463  2021-08-20  12488473    aalvarez@houlihanlawrence.com   \n",
       "4464  2021-08-23  16610622      ALeder@HoulihanLawrence.com   \n",
       "\n",
       "             Client Name  Rating  \\\n",
       "4457      Gloria Wilburn     5.0   \n",
       "4458      Gloria Wilburn     5.0   \n",
       "4459      Gloria Wilburn     5.0   \n",
       "4460     Lauren Zaccaria     5.0   \n",
       "4461   Alberto Hernandez     5.0   \n",
       "4462          Linda Finn     5.0   \n",
       "4463         Ali Alvarez     5.0   \n",
       "4464  Julie (Anna) Leder     5.0   \n",
       "\n",
       "                                            Testimonial  \\\n",
       "4457  <div class=\"Flex-c11n-8-39-0__n94bjd-0 iWWLfX\"...   \n",
       "4458  <div class=\"Flex-c11n-8-39-0__n94bjd-0 iWWLfX\"...   \n",
       "4459  <div class=\"Flex-c11n-8-39-0__n94bjd-0 iWWLfX\"...   \n",
       "4460  <p>&quot;Lauren did a great job for us. We wer...   \n",
       "4461  <p><span style=\"color:#000000;\">Alberto Hernan...   \n",
       "4462  <p><b style=\"color: rgb(12, 100, 192); font-fa...   \n",
       "4463  <p><span style=\"color: rgb(42, 42, 51); font-f...   \n",
       "4464  <p><span style=\"font-size: 16px; caret-color: ...   \n",
       "\n",
       "                                         cleaned_column  \n",
       "4457  08/29/2017 - robinjill4Sold a Single Family ho...  \n",
       "4458  02/08/2017 - g traniBought and sold a Single F...  \n",
       "4459  09/04/2015 - us1bobSold a Single Family home i...  \n",
       "4460  \"Lauren did a great job for us. We were from o...  \n",
       "4461  Alberto Hernandez is a wonderful real estate a...  \n",
       "4462  Linda was great to work with. We had a number ...  \n",
       "4463  Ali has been a dream to work with! Not only do...  \n",
       "4464  Anna was fantastic - while she may be somewhat...  "
      ]
     },
     "execution_count": 35,
     "metadata": {},
     "output_type": "execute_result"
    }
   ],
   "source": [
    "df[4457:4465]"
   ]
  },
  {
   "cell_type": "code",
   "execution_count": null,
   "id": "7a2dd1ea-062a-4442-b762-98710a4a27ce",
   "metadata": {},
   "outputs": [],
   "source": []
  }
 ],
 "metadata": {
  "kernelspec": {
   "display_name": "Python 3",
   "language": "python",
   "name": "python3"
  },
  "language_info": {
   "codemirror_mode": {
    "name": "ipython",
    "version": 3
   },
   "file_extension": ".py",
   "mimetype": "text/x-python",
   "name": "python",
   "nbconvert_exporter": "python",
   "pygments_lexer": "ipython3",
   "version": "3.8.8"
  }
 },
 "nbformat": 4,
 "nbformat_minor": 5
}
