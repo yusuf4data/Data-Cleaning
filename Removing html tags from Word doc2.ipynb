{
 "cells": [
  {
   "cell_type": "code",
   "execution_count": 1,
   "id": "991ddf59-5f94-4db9-a30f-b79fef63bd87",
   "metadata": {},
   "outputs": [],
   "source": [
    "file_path =r'E:\\dataAnalystPractice\\Upwork demands\\testimonials.2022.csv'"
   ]
  },
  {
   "cell_type": "code",
   "execution_count": 2,
   "id": "5d64c70e-a872-4634-9689-934947650c82",
   "metadata": {},
   "outputs": [],
   "source": [
    "import pandas as pd"
   ]
  },
  {
   "cell_type": "code",
   "execution_count": 3,
   "id": "73936f16-bafc-4dae-ad3e-386a5cd54698",
   "metadata": {},
   "outputs": [],
   "source": [
    "df=pd.read_csv(file_path,index_col=False)"
   ]
  },
  {
   "cell_type": "code",
   "execution_count": 4,
   "id": "7f65703c-0ffb-4b1d-8065-fd39fc7bb44e",
   "metadata": {},
   "outputs": [
    {
     "data": {
      "text/html": [
       "<div>\n",
       "<style scoped>\n",
       "    .dataframe tbody tr th:only-of-type {\n",
       "        vertical-align: middle;\n",
       "    }\n",
       "\n",
       "    .dataframe tbody tr th {\n",
       "        vertical-align: top;\n",
       "    }\n",
       "\n",
       "    .dataframe thead th {\n",
       "        text-align: right;\n",
       "    }\n",
       "</style>\n",
       "<table border=\"1\" class=\"dataframe\">\n",
       "  <thead>\n",
       "    <tr style=\"text-align: right;\">\n",
       "      <th></th>\n",
       "      <th>Date</th>\n",
       "      <th>User ID</th>\n",
       "      <th>User email</th>\n",
       "      <th>Client Name</th>\n",
       "      <th>Rating</th>\n",
       "      <th>Testimonial</th>\n",
       "    </tr>\n",
       "  </thead>\n",
       "  <tbody>\n",
       "    <tr>\n",
       "      <th>0</th>\n",
       "      <td>NaN</td>\n",
       "      <td>426426</td>\n",
       "      <td>jkovacs@houlihanlawrence.com</td>\n",
       "      <td>Janet Kovacs</td>\n",
       "      <td>NaN</td>\n",
       "      <td>We are very pleased to recommend Janet Kovacs....</td>\n",
       "    </tr>\n",
       "    <tr>\n",
       "      <th>1</th>\n",
       "      <td>NaN</td>\n",
       "      <td>426426</td>\n",
       "      <td>jkovacs@houlihanlawrence.com</td>\n",
       "      <td>Janet Kovacs</td>\n",
       "      <td>NaN</td>\n",
       "      <td>Janet is an incredible realtor who knows the R...</td>\n",
       "    </tr>\n",
       "    <tr>\n",
       "      <th>2</th>\n",
       "      <td>NaN</td>\n",
       "      <td>426558</td>\n",
       "      <td>GSermoneta@houlihanlawrence.com</td>\n",
       "      <td>Eugenio (Gino) Sermoneta</td>\n",
       "      <td>5.0</td>\n",
       "      <td>&lt;p&gt;Hi Gino. We are all happy and quite relieve...</td>\n",
       "    </tr>\n",
       "    <tr>\n",
       "      <th>3</th>\n",
       "      <td>NaN</td>\n",
       "      <td>426558</td>\n",
       "      <td>GSermoneta@houlihanlawrence.com</td>\n",
       "      <td>Eugenio (Gino) Sermoneta</td>\n",
       "      <td>5.0</td>\n",
       "      <td>&lt;p&gt;Dear Gino- Thank you so much for your kindn...</td>\n",
       "    </tr>\n",
       "    <tr>\n",
       "      <th>4</th>\n",
       "      <td>NaN</td>\n",
       "      <td>426558</td>\n",
       "      <td>GSermoneta@houlihanlawrence.com</td>\n",
       "      <td>Eugenio (Gino) Sermoneta</td>\n",
       "      <td>5.0</td>\n",
       "      <td>&lt;p&gt;Thank you again for all your help in making...</td>\n",
       "    </tr>\n",
       "  </tbody>\n",
       "</table>\n",
       "</div>"
      ],
      "text/plain": [
       "  Date  User ID                       User email               Client Name  \\\n",
       "0  NaN   426426     jkovacs@houlihanlawrence.com              Janet Kovacs   \n",
       "1  NaN   426426     jkovacs@houlihanlawrence.com              Janet Kovacs   \n",
       "2  NaN   426558  GSermoneta@houlihanlawrence.com  Eugenio (Gino) Sermoneta   \n",
       "3  NaN   426558  GSermoneta@houlihanlawrence.com  Eugenio (Gino) Sermoneta   \n",
       "4  NaN   426558  GSermoneta@houlihanlawrence.com  Eugenio (Gino) Sermoneta   \n",
       "\n",
       "   Rating                                        Testimonial  \n",
       "0     NaN  We are very pleased to recommend Janet Kovacs....  \n",
       "1     NaN  Janet is an incredible realtor who knows the R...  \n",
       "2     5.0  <p>Hi Gino. We are all happy and quite relieve...  \n",
       "3     5.0  <p>Dear Gino- Thank you so much for your kindn...  \n",
       "4     5.0  <p>Thank you again for all your help in making...  "
      ]
     },
     "execution_count": 4,
     "metadata": {},
     "output_type": "execute_result"
    }
   ],
   "source": [
    "df.head()"
   ]
  },
  {
   "cell_type": "markdown",
   "id": "2753e5f2-f643-45e7-bf5b-858f053612b9",
   "metadata": {},
   "source": [
    "# I have discover that there is a function called remove_tages in w3lib.html"
   ]
  },
  {
   "cell_type": "code",
   "execution_count": 5,
   "id": "4ce92868-f83c-4773-8eaf-d3f910e12b51",
   "metadata": {},
   "outputs": [],
   "source": [
    "\n",
    "from w3lib.html import remove_tags"
   ]
  },
  {
   "cell_type": "code",
   "execution_count": 6,
   "id": "2f8cd3eb-4a98-47f2-a139-74a23d013868",
   "metadata": {},
   "outputs": [],
   "source": [
    "def clean(row):\n",
    "    try:\n",
    "        return remove_tags(row)\n",
    "    except:\n",
    "        return row\n",
    "        \n",
    "    \n",
    "df['clean']=df['Testimonial'].apply(clean)"
   ]
  },
  {
   "cell_type": "markdown",
   "id": "031c7058-367d-4063-8168-0100484f5a6a",
   "metadata": {},
   "source": [
    "# i made this function and apply it to all data it works perfict"
   ]
  },
  {
   "cell_type": "code",
   "execution_count": 7,
   "id": "bdfecb27-db17-4598-bf79-7a2df6ec224b",
   "metadata": {},
   "outputs": [
    {
     "data": {
      "text/plain": [
       "0       We are very pleased to recommend Janet Kovacs....\n",
       "1       Janet is an incredible realtor who knows the R...\n",
       "2       Hi Gino. We are all happy and quite relieved t...\n",
       "3       Dear Gino- Thank you so much for your kindness...\n",
       "4       Thank you again for all your help in making ou...\n",
       "                              ...                        \n",
       "4878    Highly likely to recommend | 5.0 01/12/2022 - ...\n",
       "4879    I have worked with Eleanor for many years. She...\n",
       "4880    Debra was excellent and made the process of se...\n",
       "4881    She was extremely responsive at all hours of t...\n",
       "4882    When we decided to list our compound property,...\n",
       "Name: clean, Length: 4883, dtype: object"
      ]
     },
     "execution_count": 7,
     "metadata": {},
     "output_type": "execute_result"
    }
   ],
   "source": [
    "df.clean"
   ]
  },
  {
   "cell_type": "code",
   "execution_count": 17,
   "id": "952db6c3-31d7-484b-b39b-d5f8c0252606",
   "metadata": {},
   "outputs": [
    {
     "data": {
      "text/plain": [
       "'&quot;We have had the privilege of working with Joseph Briggs not only as a buyer&#39;s agent but also recently as a seller&#39;s agent. As a seller&rsquo;s agent, Joseph proved to be a gentle and thorough ally. He helped us to define appropriate home repairs to tackle before we put the house on the market, he set-up and shot excellent pictures and he attended to the myriad details that can just drive a seller wacky &ndash; like dealing with buyer&rsquo;s agents. As usual, Joseph did all of this with a wonderful sense of humor, speed and communication. You know what he is up to and you feel extremely well looked after, by someone who puts you first. Thanks Joseph !&quot;-Johnna Murray &amp; Bill Camp, Kinderhook, NY - October, 2014'"
      ]
     },
     "execution_count": 17,
     "metadata": {},
     "output_type": "execute_result"
    }
   ],
   "source": [
    "df.clean[1500]"
   ]
  },
  {
   "cell_type": "code",
   "execution_count": 8,
   "id": "a19eec85-6cf7-4808-abed-98ab6230c72d",
   "metadata": {},
   "outputs": [
    {
     "data": {
      "text/html": [
       "<div>\n",
       "<style scoped>\n",
       "    .dataframe tbody tr th:only-of-type {\n",
       "        vertical-align: middle;\n",
       "    }\n",
       "\n",
       "    .dataframe tbody tr th {\n",
       "        vertical-align: top;\n",
       "    }\n",
       "\n",
       "    .dataframe thead th {\n",
       "        text-align: right;\n",
       "    }\n",
       "</style>\n",
       "<table border=\"1\" class=\"dataframe\">\n",
       "  <thead>\n",
       "    <tr style=\"text-align: right;\">\n",
       "      <th></th>\n",
       "      <th>Date</th>\n",
       "      <th>User ID</th>\n",
       "      <th>User email</th>\n",
       "      <th>Client Name</th>\n",
       "      <th>Rating</th>\n",
       "      <th>Testimonial</th>\n",
       "      <th>clean</th>\n",
       "    </tr>\n",
       "  </thead>\n",
       "  <tbody>\n",
       "    <tr>\n",
       "      <th>4878</th>\n",
       "      <td>2022-03-09</td>\n",
       "      <td>700384</td>\n",
       "      <td>LCarroll@HoulihanLawrence.com</td>\n",
       "      <td>Lisa Carroll</td>\n",
       "      <td>5.0</td>\n",
       "      <td>&lt;p&gt;&lt;span style=\"font-size: 16px; caret-color: ...</td>\n",
       "      <td>Highly likely to recommend | 5.0 01/12/2022 - ...</td>\n",
       "    </tr>\n",
       "    <tr>\n",
       "      <th>4879</th>\n",
       "      <td>2022-03-09</td>\n",
       "      <td>426584</td>\n",
       "      <td>erice@houlihanlawrence.com</td>\n",
       "      <td>Eleanor Rice</td>\n",
       "      <td>5.0</td>\n",
       "      <td>&lt;p&gt;&lt;em&gt;&lt;span style=\"color: rgb(32, 31, 30); fo...</td>\n",
       "      <td>I have worked with Eleanor for many years. She...</td>\n",
       "    </tr>\n",
       "    <tr>\n",
       "      <th>4880</th>\n",
       "      <td>2022-03-09</td>\n",
       "      <td>6518193</td>\n",
       "      <td>DHoch@houlihanlawrence.com</td>\n",
       "      <td>Debra Hoch</td>\n",
       "      <td>5.0</td>\n",
       "      <td>&lt;p&gt;&lt;em&gt;&lt;span style=\"color: rgb(32, 31, 30); fo...</td>\n",
       "      <td>Debra was excellent and made the process of se...</td>\n",
       "    </tr>\n",
       "    <tr>\n",
       "      <th>4881</th>\n",
       "      <td>2022-03-10</td>\n",
       "      <td>17917842</td>\n",
       "      <td>pviscome@houlihanlawrence.com</td>\n",
       "      <td>Pamela Viscome</td>\n",
       "      <td>5.0</td>\n",
       "      <td>&lt;p&gt;&lt;em&gt;&lt;span style=\"color: rgb(32, 31, 30); fo...</td>\n",
       "      <td>She was extremely responsive at all hours of t...</td>\n",
       "    </tr>\n",
       "    <tr>\n",
       "      <th>4882</th>\n",
       "      <td>NaN</td>\n",
       "      <td>442402</td>\n",
       "      <td>CAprile@houlihanlawrence.com</td>\n",
       "      <td>Carol A. Aprile</td>\n",
       "      <td>5.0</td>\n",
       "      <td>&lt;p&gt;When we decided to list our compound proper...</td>\n",
       "      <td>When we decided to list our compound property,...</td>\n",
       "    </tr>\n",
       "  </tbody>\n",
       "</table>\n",
       "</div>"
      ],
      "text/plain": [
       "            Date   User ID                     User email      Client Name  \\\n",
       "4878  2022-03-09    700384  LCarroll@HoulihanLawrence.com     Lisa Carroll   \n",
       "4879  2022-03-09    426584     erice@houlihanlawrence.com     Eleanor Rice   \n",
       "4880  2022-03-09   6518193     DHoch@houlihanlawrence.com       Debra Hoch   \n",
       "4881  2022-03-10  17917842  pviscome@houlihanlawrence.com   Pamela Viscome   \n",
       "4882         NaN    442402   CAprile@houlihanlawrence.com  Carol A. Aprile   \n",
       "\n",
       "      Rating                                        Testimonial  \\\n",
       "4878     5.0  <p><span style=\"font-size: 16px; caret-color: ...   \n",
       "4879     5.0  <p><em><span style=\"color: rgb(32, 31, 30); fo...   \n",
       "4880     5.0  <p><em><span style=\"color: rgb(32, 31, 30); fo...   \n",
       "4881     5.0  <p><em><span style=\"color: rgb(32, 31, 30); fo...   \n",
       "4882     5.0  <p>When we decided to list our compound proper...   \n",
       "\n",
       "                                                  clean  \n",
       "4878  Highly likely to recommend | 5.0 01/12/2022 - ...  \n",
       "4879  I have worked with Eleanor for many years. She...  \n",
       "4880  Debra was excellent and made the process of se...  \n",
       "4881  She was extremely responsive at all hours of t...  \n",
       "4882  When we decided to list our compound property,...  "
      ]
     },
     "execution_count": 8,
     "metadata": {},
     "output_type": "execute_result"
    }
   ],
   "source": [
    "df.tail()"
   ]
  },
  {
   "cell_type": "code",
   "execution_count": 9,
   "id": "ce5b2032-4f1c-4222-b98f-036790ffbcfb",
   "metadata": {},
   "outputs": [],
   "source": [
    "df.to_csv('using_remove_tags_function.csv',index=False)"
   ]
  },
  {
   "cell_type": "code",
   "execution_count": null,
   "id": "c61c76fc-a883-4207-a88c-34f3499015e5",
   "metadata": {},
   "outputs": [],
   "source": []
  }
 ],
 "metadata": {
  "kernelspec": {
   "display_name": "Python 3",
   "language": "python",
   "name": "python3"
  },
  "language_info": {
   "codemirror_mode": {
    "name": "ipython",
    "version": 3
   },
   "file_extension": ".py",
   "mimetype": "text/x-python",
   "name": "python",
   "nbconvert_exporter": "python",
   "pygments_lexer": "ipython3",
   "version": "3.8.8"
  }
 },
 "nbformat": 4,
 "nbformat_minor": 5
}
